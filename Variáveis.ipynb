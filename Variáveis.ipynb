{
  "nbformat": 4,
  "nbformat_minor": 0,
  "metadata": {
    "colab": {
      "name": "Variáveis.ipynb",
      "provenance": [],
      "collapsed_sections": []
    },
    "kernelspec": {
      "name": "python3",
      "display_name": "Python 3"
    },
    "language_info": {
      "name": "python"
    }
  },
  "cells": [
    {
      "cell_type": "code",
      "execution_count": null,
      "metadata": {
        "colab": {
          "base_uri": "https://localhost:8080/"
        },
        "id": "mt8Hq90jo_3w",
        "outputId": "48d4a74b-01c7-4e01-c4b2-bfee88b04e48"
      },
      "outputs": [
        {
          "output_type": "stream",
          "name": "stdout",
          "text": [
            "insira a primeira nota20\n",
            "insira a segunda nota10\n",
            "Sua média é:15.0\n"
          ]
        }
      ],
      "source": [
        "nota1=float(input(\"insira a primeira nota\"))\n",
        "nota2=float (input(\"insira a segunda nota\"))\n",
        "media=(nota1+nota2)/2\n",
        "print (\"Sua média é:\" + str(media))"
      ]
    },
    {
      "cell_type": "code",
      "source": [
        "msg1=int(input(\"Insira aqui seu número\"))\n",
        "print (\"Seu número é:\" + str(msg1))"
      ],
      "metadata": {
        "colab": {
          "base_uri": "https://localhost:8080/"
        },
        "id": "9l-yqvERyVeA",
        "outputId": "d3d7de36-4e4f-42c1-ed15-e7e4d641775a"
      },
      "execution_count": null,
      "outputs": [
        {
          "output_type": "stream",
          "name": "stdout",
          "text": [
            "Insira aqui seu número50\n",
            "Seu número é:50\n"
          ]
        }
      ]
    },
    {
      "cell_type": "code",
      "source": [
        "media1= int(input(\"Insira aqui sua média\"))\n",
        "media2= int(input(\"Insira aqui sua média\"))\n",
        "media=(media1+media2)\n",
        "print (\"A soma das duas médias é: \" + str(media))"
      ],
      "metadata": {
        "id": "seDV2u4gy7ka"
      },
      "execution_count": null,
      "outputs": []
    },
    {
      "cell_type": "code",
      "source": [
        "metros= float(input(\"Insira os metros\"))\n",
        "resultado= metros * 100\n",
        "print (\"metro: \"+ str(resultado) + \"Cm: \")"
      ],
      "metadata": {
        "id": "KiirRGWI1xMz"
      },
      "execution_count": null,
      "outputs": []
    },
    {
      "cell_type": "code",
      "source": [
        "pedido= float(input(\"Insira o raio do circulo\"))\n",
        "area= 3.14 * (pedido **2)\n",
        "print (\"A área do cicurlo é igual a: \" + str(area))"
      ],
      "metadata": {
        "id": "g9s1yTR48Elc"
      },
      "execution_count": null,
      "outputs": []
    },
    {
      "cell_type": "code",
      "source": [
        "base= float(input(\"Insira a base\"))\n",
        "altura= float(input(\"Insira a altura\"))\n",
        "resultado= (base * altura *2)\n",
        "print (\"O dobro da área do quadrado, é: \" + str(resultado))"
      ],
      "metadata": {
        "id": "V-bi0vK4CuGv"
      },
      "execution_count": null,
      "outputs": []
    },
    {
      "cell_type": "code",
      "source": [
        "money= float(input(\"Insira quanto você ganha por hora: \"))\n",
        "time= float(input(\"insira o numero de horas trabalhadas por mês\"))\n",
        "resultado= (money * time)\n",
        "print (\"Total do salário recebido por mês: \" + str(resultado))"
      ],
      "metadata": {
        "id": "m5ERlphN8Epr"
      },
      "execution_count": null,
      "outputs": []
    },
    {
      "cell_type": "code",
      "source": [
        "f= float(input(\"Insira a temperatura em Fahrenheit\"))\n",
        "resultado= (5*(f-32)/9)\n",
        "print (\"A temperatura em graus celsius é: \" + str(resultado))"
      ],
      "metadata": {
        "id": "qOlB6tlfGTSY"
      },
      "execution_count": null,
      "outputs": []
    },
    {
      "cell_type": "code",
      "source": [
        "c= float(input(\"Insira a temperatura em Celsius\"))\n",
        "resultado= (1.8*c+32)\n",
        "print (\"A temperatura em graus Farenheit é: \" + str(resultado))"
      ],
      "metadata": {
        "id": "1NvuDMZ2IeD_"
      },
      "execution_count": null,
      "outputs": []
    },
    {
      "cell_type": "code",
      "source": [
        "i1= float(input(\"insira aqui um numero inteiro\"))\n",
        "i2= float(input(\"insira aqui um numero inteiro\"))\n",
        "i3= float(input(\"insira aqui um numero real\"))\n",
        "r1= ((i1*2) + i2/2)\n",
        "r2= ((i1*3)+i3)\n",
        "r3= (i3**3)\n",
        "\n",
        "print (\"Dobro do primeiro numero com a metade do segundo: \" + str(r1))\n",
        "print (\"Triplo do primeiro numero mais o terceiro: \" + str(r2))\n",
        "print (\"Terceiro numero ao cubo: \" + str(r3))"
      ],
      "metadata": {
        "id": "iLcIWTmANH9r"
      },
      "execution_count": null,
      "outputs": []
    },
    {
      "cell_type": "code",
      "source": [
        "altura= float(input(\"Insira aqui, sua altura: \"))\n",
        "r1= (72.7*altura) - 58\n",
        "print (\"Seu peso ideal é: \" +str(r1))"
      ],
      "metadata": {
        "id": "t4JbF8AFUMe8"
      },
      "execution_count": null,
      "outputs": []
    },
    {
      "cell_type": "code",
      "source": [
        "h1= float(input(\"Insira aqui a sua altura (Homem): \"))\n",
        "h2= float(input(\"insira aqui a sua altura (Mulher): \"))\n",
        "r1= (72.7*h1) - 58\n",
        "r2= (62.1*h2) - 44.7\n",
        "print (\"Seu peso ideal é: \" + str(r1))\n",
        "print (\"Seu peso ideal é: \" + str(r2))"
      ],
      "metadata": {
        "id": "PRUVU7xMVN_V"
      },
      "execution_count": null,
      "outputs": []
    },
    {
      "cell_type": "code",
      "source": [
        "arquivo= float(input(\"insira o tamanho do arquivo: \"))\n",
        "net= float(input(\"insira a velocidade da sua internet: \"))\n",
        "r1= (arquivo / net *60)\n",
        "\n",
        "print (\"O tempo estimado para donwload é de aproximadamente: \"+str(r1) + \" minutos\")"
      ],
      "metadata": {
        "id": "F6PFugsqXgf9"
      },
      "execution_count": null,
      "outputs": []
    }
  ]
}