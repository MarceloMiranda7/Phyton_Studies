{
  "nbformat": 4,
  "nbformat_minor": 0,
  "metadata": {
    "colab": {
      "name": "Identificar a maior nota.ipynb",
      "provenance": [],
      "authorship_tag": "ABX9TyPIHA1EMlmxoc2oKO5eG1e1",
      "include_colab_link": true
    },
    "kernelspec": {
      "name": "python3",
      "display_name": "Python 3"
    },
    "language_info": {
      "name": "python"
    }
  },
  "cells": [
    {
      "cell_type": "markdown",
      "metadata": {
        "id": "view-in-github",
        "colab_type": "text"
      },
      "source": [
        "<a href=\"https://colab.research.google.com/github/MarceloMiranda7/Phyton_Studies/blob/main/Identificar_a_maior_nota.ipynb\" target=\"_parent\"><img src=\"https://colab.research.google.com/assets/colab-badge.svg\" alt=\"Open In Colab\"/></a>"
      ]
    },
    {
      "cell_type": "code",
      "execution_count": null,
      "metadata": {
        "id": "LtngI6PTdBNG"
      },
      "outputs": [],
      "source": [
        "notas= [1, 2, 3, 4, 6, 10, 20, 60]\n",
        "maior_nota= max(notas)\n",
        "for n in notas:\n",
        " if n > 0:\n",
        "  print (maior_nota)\n",
        "  break"
      ]
    }
  ]
}