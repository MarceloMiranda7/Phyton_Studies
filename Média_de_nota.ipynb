{
  "nbformat": 4,
  "nbformat_minor": 0,
  "metadata": {
    "colab": {
      "name": "Média de nota.ipynb",
      "provenance": []
    },
    "kernelspec": {
      "name": "python3",
      "display_name": "Python 3"
    },
    "language_info": {
      "name": "python"
    }
  },
  "cells": [
    {
      "cell_type": "code",
      "execution_count": null,
      "metadata": {
        "colab": {
          "base_uri": "https://localhost:8080/"
        },
        "id": "LJosl_G5b6Bz",
        "outputId": "3ea541f5-069b-4764-8716-3b188453b1e5"
      },
      "outputs": [
        {
          "output_type": "stream",
          "name": "stdout",
          "text": [
            "Insira sua nota: 10\n",
            "Insira sua nota: 20\n",
            "Insira sua nota: 10\n",
            "A soma das suas notas é: 40.0\n",
            "A sua média é: 13.333333333333334\n"
          ]
        }
      ],
      "source": [
        "nota1= float(input(\"Insira sua nota: \"))\n",
        "nota2= float(input(\"Insira sua nota: \"))\n",
        "nota3= float(input(\"Insira sua nota: \"))\n",
        "\n",
        "notas= (nota1 + nota2 + nota3)\n",
        "\n",
        "media= (notas /3)\n",
        "\n",
        "print (\"A soma das suas notas é: \"+ str(notas) )\n",
        "print (\"A sua média é: \"+ str(media))"
      ]
    }
  ]
}