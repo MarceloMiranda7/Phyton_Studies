{
  "nbformat": 4,
  "nbformat_minor": 0,
  "metadata": {
    "colab": {
      "name": "Numeros impares de 1 ate 50.ipynb",
      "provenance": [],
      "authorship_tag": "ABX9TyMfRd0h4+F7sOqlnm56Pniw",
      "include_colab_link": true
    },
    "kernelspec": {
      "name": "python3",
      "display_name": "Python 3"
    },
    "language_info": {
      "name": "python"
    }
  },
  "cells": [
    {
      "cell_type": "markdown",
      "metadata": {
        "id": "view-in-github",
        "colab_type": "text"
      },
      "source": [
        "<a href=\"https://colab.research.google.com/github/MarceloMiranda7/Phyton_Studies/blob/main/Numeros_impares_de_1_ate_50.ipynb\" target=\"_parent\"><img src=\"https://colab.research.google.com/assets/colab-badge.svg\" alt=\"Open In Colab\"/></a>"
      ]
    },
    {
      "cell_type": "code",
      "execution_count": null,
      "metadata": {
        "id": "vJLJl89Zd9Fo"
      },
      "outputs": [],
      "source": [
        "for i in range (1,50,2):\n",
        " print (i)"
      ]
    }
  ]
}