{
  "nbformat": 4,
  "nbformat_minor": 0,
  "metadata": {
    "colab": {
      "name": "CD's.ipynb",
      "provenance": []
    },
    "kernelspec": {
      "name": "python3",
      "display_name": "Python 3"
    },
    "language_info": {
      "name": "python"
    }
  },
  "cells": [
    {
      "cell_type": "code",
      "execution_count": null,
      "metadata": {
        "id": "utM9zhIHPQQt"
      },
      "outputs": [],
      "source": [
        "cd= float(input(\"insira a quantidade de CD: \"))\n",
        "repeat= str(input(\"Deseja inserir mais um cd?: \"))\n",
        "lista= []\n",
        "\n",
        "while repeat != \"nao\":\n",
        "    valor = float(input(\"Insira o valor do CD: \"))\n",
        "    repeat = str(input(\"Deseja inserir mais um cd?: \"))\n",
        "    lista.append(valor)\n",
        "\n",
        "resultado = sum(lista)\n",
        "media= (resultado/cd)\n",
        "print (resultado)\n",
        "print (\"Média de gastos: \" + str(media))\n"
      ]
    }
  ]
}