{
  "nbformat": 4,
  "nbformat_minor": 0,
  "metadata": {
    "colab": {
      "name": "Condicional.ipynb",
      "provenance": [],
      "collapsed_sections": [],
      "authorship_tag": "ABX9TyPCY39xelE3CAwxaAhQS2Yk",
      "include_colab_link": true
    },
    "kernelspec": {
      "name": "python3",
      "display_name": "Python 3"
    },
    "language_info": {
      "name": "python"
    }
  },
  "cells": [
    {
      "cell_type": "markdown",
      "metadata": {
        "id": "view-in-github",
        "colab_type": "text"
      },
      "source": [
        "<a href=\"https://colab.research.google.com/github/MarceloMiranda7/Phyton_Studies/blob/main/Condicional.ipynb\" target=\"_parent\"><img src=\"https://colab.research.google.com/assets/colab-badge.svg\" alt=\"Open In Colab\"/></a>"
      ]
    },
    {
      "cell_type": "code",
      "execution_count": null,
      "metadata": {
        "id": "PQS7N4b0qggH"
      },
      "outputs": [],
      "source": [
        "n1= float(input(\"Escolha um numero\"))\n",
        "n2= float(input(\"Escolha um numero\"))\n",
        "if n1>n2:\n",
        "    print(str(n1)+ \"é maior que\" + str(n2))\n",
        "else:\n",
        "    print(str(n2) + \"é maior que\" + str(n1))"
      ]
    },
    {
      "cell_type": "code",
      "source": [
        "n1= float(input(\"Quantos anos Marcelo tem? \"))\n",
        "n2= 20\n",
        "if n1==n2:\n",
        "  print (\"Verdadeiro\")\n",
        "else:\n",
        "  print (\"Negativo\")"
      ],
      "metadata": {
        "id": "yRHExRdkt620"
      },
      "execution_count": null,
      "outputs": []
    },
    {
      "cell_type": "code",
      "source": [
        "n1= str(input(\"Digite M para masculino ou F para feminino: \"))\n",
        "if n1 == \"M\" or n1 == \"m\":\n",
        "  print (\"Sexo Masculino confirmado!\")\n",
        "elif n1 == \"F\" or n1== \"f\":\n",
        "  print (\"Sexo Feminino confirmado!\")\n",
        "else: \n",
        "  print (\"Sexo inválido!\")"
      ],
      "metadata": {
        "id": "Nk6xtHXLxF_l"
      },
      "execution_count": null,
      "outputs": []
    },
    {
      "cell_type": "code",
      "source": [
        "l1= str(input(\"Digite uma letra: \"))\n",
        "if l1== \"a\" or l1==\"e\" or l1==\"i\" or l1==\"o\" or l1==\"u\":\n",
        "  print (\"Esta letra é vogal\")\n",
        "else:\n",
        "  print (\"Esta letra é consoante\")"
      ],
      "metadata": {
        "id": "Cm5h3Wd100JP"
      },
      "execution_count": null,
      "outputs": []
    },
    {
      "cell_type": "code",
      "source": [
        "n1= float(input(\"Insira um numero: \"))\n",
        "n2= float(input(\"Insira um numero: \"))\n",
        "n3= float(input(\"Insira um numero: \"))\n",
        "\n",
        "if n1>n2 and n1>n3:\n",
        "  print (str(n1) + \"Este número é o maior\")\n",
        "elif n2>n1 and n2>n3:\n",
        "  print (str(n2) + \"Este número é o maior\")\n",
        "elif n3>n1 and n3>n2:\n",
        "  print (str(n3) + \"Este número é o maior\")\n"
      ],
      "metadata": {
        "id": "TUoktmid36eP"
      },
      "execution_count": null,
      "outputs": []
    },
    {
      "cell_type": "code",
      "source": [
        "n1= float(input(\"Insira o preço do produto: \"))\n",
        "n2= float(input(\"Insira o preço do produto: \"))\n",
        "n3= float(input(\"Insira o preço do produto: \"))\n",
        "\n",
        "if n1<n2 and n1<n3:\n",
        "  print (str(n1) + \"Compre este produto\")\n",
        "elif n2<n1 and n2<n3:\n",
        "  print (str(n2) + \"Compre este produto\")\n",
        "elif n3<n1 and n3<n2:\n",
        "  print (str(n3) + \"Compre este produto\")"
      ],
      "metadata": {
        "id": "OzP51gQn5yzA"
      },
      "execution_count": null,
      "outputs": []
    },
    {
      "cell_type": "code",
      "source": [
        "n1= float(input(\"Insira um número: \"))\n",
        "n2= float(input(\"Insira um número: \"))\n",
        "n3= float(input(\"Insira um número: \"))\n",
        "\n",
        "if n1>n2 and n1>n3 and n2>n3:\n",
        "  print (str(n1)+\",\" +str(n2)+\",\" +str(n3) )\n",
        "\n",
        "elif n2>n1 and n2>n3 and n1>n3:\n",
        "  print (str(n2)+\",\" +str(n1)+\",\" +str(n3) )\n",
        "\n",
        "elif n3>n1 and n3>n2 and n2>n1:\n",
        "  print (str(n3)+\",\" +str(n2)+\",\" +str(n1) )\n",
        "\n",
        "elif n3>n1 and n3>n2 and n2<n1:\n",
        "  print (str(n3)+\",\" +str(n1)+\",\" +str(n2) )\n",
        "\n",
        "elif n2>n1 and n2>n3 and n1<n3:\n",
        "  print (str(n2)+\",\" +str(n3)+\",\" +str(n1) )\n",
        "\n",
        "elif n1>n2 and n1>n3 and n2<n3:\n",
        "  print (str(n1)+\",\" +str(n3)+\",\" +str(n2) )"
      ],
      "metadata": {
        "id": "AxClGeBd7MDB"
      },
      "execution_count": null,
      "outputs": []
    },
    {
      "cell_type": "code",
      "source": [
        "t1= str(input(\"Insira aqui seu turno: \"))\n",
        "if t1== \"m\" or t1== \"M\":\n",
        "  print (\"Bom Dia\")\n",
        "\n",
        "elif t1== \"V\" or t1== \"v\":\n",
        "  print (\"Boa Tarde\")\n",
        "\n",
        "elif t1== \"n\" or t1== \"N\":\n",
        "  print (\"Boa Noite\")\n",
        "\n",
        "else:\n",
        "  print (\"Inválido!\")"
      ],
      "metadata": {
        "id": "jhVd3A26EYda"
      },
      "execution_count": null,
      "outputs": []
    },
    {
      "cell_type": "code",
      "source": [
        "a1= int(input(\"informe ano: \"))\n",
        "\n",
        "\n",
        "if a1%4==0:\n",
        "  print (\"é ano bissexto\")\n",
        "else:\n",
        "  print (\"Não é bissexto\")"
      ],
      "metadata": {
        "id": "0tyoHk8nJPgL"
      },
      "execution_count": null,
      "outputs": []
    },
    {
      "cell_type": "code",
      "source": [
        "d1= int(input(\"Insira o dia: \"))\n",
        "d2= int(input(\"Insira o mês: \"))\n",
        "d3= int(input(\"Insira o ano: \"))\n",
        "\n",
        "print (f'{d1}/{d2}/{d3}')\n",
        "\n",
        "if d1 <= 31 and d2 <=12 and d3 <= 2022:\n",
        "  print (\"Cadastro realizado!\")"
      ],
      "metadata": {
        "id": "BfVoir4Hzl0k"
      },
      "execution_count": null,
      "outputs": []
    },
    {
      "cell_type": "code",
      "source": [
        "from IPython.core.display import clear_output\n",
        "from typing import SupportsAbs\n",
        "print (\"Responda 1 para sim e 0 para não\")\n",
        "p1= int(input(\"Telefonou para a vítima? \"))\n",
        "p2= int(input(\"Esteve no local do crime? \"))\n",
        "p3= int(input(\"Mora perto da vítima? \"))\n",
        "p4= int(input(\"Devia para a vítima? \"))\n",
        "p5= int(input(\"Ja trabalhou para a vítima? \"))\n",
        "p6= p1+p2+p3+p4+p5\n",
        "print (p6)\n",
        "\n",
        "print (\"2 - sim: Suspeita\")\n",
        "print (\"3/4 - sim: Cumplice\")\n",
        "print (\"5 - sim: Assasino\")\n"
      ],
      "metadata": {
        "id": "f4lr9oEZ7Txv"
      },
      "execution_count": null,
      "outputs": []
    },
    {
      "cell_type": "code",
      "source": [
        "n1= int(input(\"Insira um numéro: \"))\n",
        "n2= int(input(\"Insira um numéro: \"))\n",
        "n3= str(input(\"Insira a operação matematica: \"))\n",
        "c1= n1 + n2\n",
        "c2= n1 - n2\n",
        "c3= n1 * n2\n",
        "c4= n1 / n2\n",
        "\n",
        "if  n3 == (\"+\"):\n",
        "  print (c1)\n",
        "\n",
        "elif n3 == (\"-\"):\n",
        "  print (c2)\n",
        "\n",
        "elif  n3 == (\"x\"):\n",
        "  print (c3)\n",
        "\n",
        "elif  n3 == (\"/\"):\n",
        "  print (c4)\n"
      ],
      "metadata": {
        "id": "RleUsWVaEhnX"
      },
      "execution_count": null,
      "outputs": []
    }
  ]
}