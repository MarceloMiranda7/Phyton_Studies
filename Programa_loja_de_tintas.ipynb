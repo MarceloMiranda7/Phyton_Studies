{
  "nbformat": 4,
  "nbformat_minor": 0,
  "metadata": {
    "colab": {
      "name": "Programa loja de tintas.ipynb",
      "provenance": [],
      "collapsed_sections": []
    },
    "kernelspec": {
      "name": "python3",
      "display_name": "Python 3"
    },
    "language_info": {
      "name": "python"
    }
  },
  "cells": [
    {
      "cell_type": "code",
      "execution_count": null,
      "metadata": {
        "id": "f4ykX7nYcwIS"
      },
      "outputs": [],
      "source": [
        "comprimento= int(input(\"Insira o metro: \"))\n",
        "largura= int(input(\"insira a largura: \"))\n",
        "m2= comprimento * largura\n",
        "litros_de_tinta= m2 / 3\n",
        "quantidade_de_latas= litros_de_tinta / 18\n",
        "\n",
        "valor_de_latas= quantidade_de_latas * 80\n",
        "\n",
        "print (\"Quantidade de latas que devem ser usadas: \" + str(quantidade_de_latas))\n",
        "print (\"Valor que será gasto com latas de tinta: \" + str(valor_de_latas))"
      ]
    }
  ]
}