{
  "nbformat": 4,
  "nbformat_minor": 0,
  "metadata": {
    "colab": {
      "name": "Loops.ipynb",
      "provenance": [],
      "collapsed_sections": [],
      "authorship_tag": "ABX9TyMCY4SXejyZQRtPA7HnhJcO",
      "include_colab_link": true
    },
    "kernelspec": {
      "name": "python3",
      "display_name": "Python 3"
    },
    "language_info": {
      "name": "python"
    }
  },
  "cells": [
    {
      "cell_type": "markdown",
      "metadata": {
        "id": "view-in-github",
        "colab_type": "text"
      },
      "source": [
        "<a href=\"https://colab.research.google.com/github/MarceloMiranda7/Phyton_Studies/blob/main/Loops.ipynb\" target=\"_parent\"><img src=\"https://colab.research.google.com/assets/colab-badge.svg\" alt=\"Open In Colab\"/></a>"
      ]
    },
    {
      "cell_type": "code",
      "execution_count": null,
      "metadata": {
        "id": "b0sECjPKmnBo"
      },
      "outputs": [],
      "source": [
        "p1 = 80000\n",
        "p2 = 200000\n",
        "p1a = []\n",
        "p2a = []\n",
        "p3a = []\n",
        "while p1 < p2:\n",
        "    c = (p1 * 0.03)\n",
        "    c2 = (p2 * 0.015)\n",
        "    p1 = p1 + c\n",
        "    p2 = p2 + c2\n",
        "    p1a.append(p1)\n",
        "    p2a.append(p2)\n",
        "    p3a.append(len(p2a))\n",
        "for m, h, z in zip(p1a, p2a, p3a):\n",
        "    print (\"Ano:\",z, \"País A: \",m, \"País B: \",h)"
      ]
    },
    {
      "cell_type": "code",
      "source": [
        "p1 = float(input(\"Insira o número de habitantes do primeiro país: \"))\n",
        "p2 = float(input(\"Insira o número de habitantes do segundo país: \"))\n",
        "p3 = float(input(\"Insira o percentual de crescimento de habitantes do primeiro país: \"))\n",
        "p3v = p3 / 100\n",
        "p4= float(input(\"Insira o percentual de crescimento de habitantes do segundo país: \"))\n",
        "p4v = p4 / 100\n",
        "p1a = []\n",
        "p2a = []\n",
        "p3a = []\n",
        "while p1 < p2:\n",
        "    c = (p1 * p3v)\n",
        "    c2 = (p2 * p4v)\n",
        "    p1 = p1 + c\n",
        "    p2 = p2 + c2\n",
        "    p1a.append(p1)\n",
        "    p2a.append(p2)\n",
        "    p3a.append(len(p2a))\n",
        "for m, h, z in zip(p1a, p2a, p3a):\n",
        "    print (\"Ano:\",z, \"País A: \",m, \"País B: \",h)\n",
        "\n",
        "\n",
        "\n"
      ],
      "metadata": {
        "id": "-fOwaF8RGltF"
      },
      "execution_count": null,
      "outputs": []
    },
    {
      "cell_type": "code",
      "source": [
        "X = 1\n",
        "While x = 1\n",
        "Print (x)\n",
        "x += 1\n"
      ],
      "metadata": {
        "id": "mYAOMQkSwZN1"
      },
      "execution_count": null,
      "outputs": []
    }
  ]
}