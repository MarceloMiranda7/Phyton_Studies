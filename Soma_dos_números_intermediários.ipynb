{
  "nbformat": 4,
  "nbformat_minor": 0,
  "metadata": {
    "colab": {
      "name": "Soma dos números intermediários.ipynb",
      "provenance": [],
      "authorship_tag": "ABX9TyOVqff241jZrT1vC1KiOZks",
      "include_colab_link": true
    },
    "kernelspec": {
      "name": "python3",
      "display_name": "Python 3"
    },
    "language_info": {
      "name": "python"
    }
  },
  "cells": [
    {
      "cell_type": "markdown",
      "metadata": {
        "id": "view-in-github",
        "colab_type": "text"
      },
      "source": [
        "<a href=\"https://colab.research.google.com/github/MarceloMiranda7/Phyton_Studies/blob/main/Soma_dos_n%C3%BAmeros_intermedi%C3%A1rios.ipynb\" target=\"_parent\"><img src=\"https://colab.research.google.com/assets/colab-badge.svg\" alt=\"Open In Colab\"/></a>"
      ]
    },
    {
      "cell_type": "code",
      "execution_count": null,
      "metadata": {
        "id": "dVTnRGBUeFF8"
      },
      "outputs": [],
      "source": [
        "numero1= int(input(\"Insira um número: \"))\n",
        "numero2= int(input(\"Insira um número: \"))\n",
        "frase= str(\"Numeros intermediários do primeiro número:\")\n",
        "frase2= str(\"Números intermediários do segundo número:\")\n",
        "\n",
        "soma= numero1 + numero2\n",
        "\n",
        "print (frase)\n",
        "\n",
        "for i in range(1, numero1, 1):\n",
        "    print (i)\n",
        "    \n",
        "    \n",
        "print (frase2)\n",
        "\n",
        "for i in range(1, numero2, 1):\n",
        "    print (i)\n",
        "   \n",
        "print (\"Soma dos números intermediários: \")\n",
        "\n",
        "print (soma)"
      ]
    }
  ]
}