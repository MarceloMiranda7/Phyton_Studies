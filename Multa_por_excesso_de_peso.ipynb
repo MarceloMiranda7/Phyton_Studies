{
  "nbformat": 4,
  "nbformat_minor": 0,
  "metadata": {
    "colab": {
      "name": "Multa por excesso de peso.ipynb",
      "provenance": []
    },
    "kernelspec": {
      "name": "python3",
      "display_name": "Python 3"
    },
    "language_info": {
      "name": "python"
    }
  },
  "cells": [
    {
      "cell_type": "code",
      "execution_count": null,
      "metadata": {
        "id": "IlXJ6o0zdQXz"
      },
      "outputs": [],
      "source": [
        "Bom_dia= \"Bom dia João, seja bem vindo ao programa.\"\n",
        "print (Bom_dia)\n",
        "\n",
        "peso= float(input(\"João, insira o peso do peixe: \"))\n",
        "excesso= (peso - 50)\n",
        "multa= (excesso * 4)\n",
        "string= str(multa)\n",
        "\n",
        "print (\"O valor da multa a se pagar é de: \" + string)"
      ]
    }
  ]
}