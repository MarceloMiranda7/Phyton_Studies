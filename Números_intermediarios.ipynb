{
  "nbformat": 4,
  "nbformat_minor": 0,
  "metadata": {
    "colab": {
      "name": "Números intermediarios.ipynb",
      "provenance": [],
      "authorship_tag": "ABX9TyO6iqlV5jVonhg7i5V43PZw",
      "include_colab_link": true
    },
    "kernelspec": {
      "name": "python3",
      "display_name": "Python 3"
    },
    "language_info": {
      "name": "python"
    }
  },
  "cells": [
    {
      "cell_type": "markdown",
      "metadata": {
        "id": "view-in-github",
        "colab_type": "text"
      },
      "source": [
        "<a href=\"https://colab.research.google.com/github/MarceloMiranda7/Phyton_Studies/blob/main/N%C3%BAmeros_intermediarios.ipynb\" target=\"_parent\"><img src=\"https://colab.research.google.com/assets/colab-badge.svg\" alt=\"Open In Colab\"/></a>"
      ]
    },
    {
      "cell_type": "code",
      "execution_count": null,
      "metadata": {
        "id": "Ui6bt3T6dfgi"
      },
      "outputs": [],
      "source": [
        "numero1= int(input(\"Insira um número: \"))\n",
        "numero2= int(input(\"Insira um número: \"))\n",
        "frase= str(\"Numeros intermediários do primeiro número:\")\n",
        "frase2= str(\"Números intermediários do segundo número:\")\n",
        "\n",
        "\n",
        "\n",
        "print (frase)\n",
        "\n",
        "for i in range(1, numero1, 1):\n",
        "    print (i)\n",
        "    \n",
        "    \n",
        "print (frase2)\n",
        "\n",
        "for i in range(1, numero2, 1):\n",
        "    print (i)"
      ]
    }
  ]
}